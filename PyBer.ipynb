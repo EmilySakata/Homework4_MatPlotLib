{
 "cells": [
  {
   "cell_type": "code",
   "execution_count": 125,
   "metadata": {
    "collapsed": false
   },
   "outputs": [],
   "source": [
    "#homework 4 PyBer - import library \n",
    "\n",
    "import pandas as pd\n",
    "import matplotlib.pyplot as plt\n",
    "import numpy as np\n",
    "import seaborn as sns\n"
   ]
  },
  {
   "cell_type": "code",
   "execution_count": 126,
   "metadata": {
    "collapsed": true
   },
   "outputs": [],
   "source": [
    "#read csv file\n",
    "city = \"raw_data/city_data.csv\"\n",
    "ride = \"raw_data/ride_data.csv\"\n"
   ]
  },
  {
   "cell_type": "code",
   "execution_count": 127,
   "metadata": {
    "collapsed": false
   },
   "outputs": [
    {
     "data": {
      "text/html": [
       "<div>\n",
       "<table border=\"1\" class=\"dataframe\">\n",
       "  <thead>\n",
       "    <tr style=\"text-align: right;\">\n",
       "      <th></th>\n",
       "      <th>city</th>\n",
       "      <th>date</th>\n",
       "      <th>fare</th>\n",
       "      <th>ride_id</th>\n",
       "    </tr>\n",
       "  </thead>\n",
       "  <tbody>\n",
       "    <tr>\n",
       "      <th>0</th>\n",
       "      <td>Sarabury</td>\n",
       "      <td>2016-01-16 13:49:27</td>\n",
       "      <td>38.35</td>\n",
       "      <td>5403689035038</td>\n",
       "    </tr>\n",
       "    <tr>\n",
       "      <th>1</th>\n",
       "      <td>South Roy</td>\n",
       "      <td>2016-01-02 18:42:34</td>\n",
       "      <td>17.49</td>\n",
       "      <td>4036272335942</td>\n",
       "    </tr>\n",
       "    <tr>\n",
       "      <th>2</th>\n",
       "      <td>Wiseborough</td>\n",
       "      <td>2016-01-21 17:35:29</td>\n",
       "      <td>44.18</td>\n",
       "      <td>3645042422587</td>\n",
       "    </tr>\n",
       "    <tr>\n",
       "      <th>3</th>\n",
       "      <td>Spencertown</td>\n",
       "      <td>2016-07-31 14:53:22</td>\n",
       "      <td>6.87</td>\n",
       "      <td>2242596575892</td>\n",
       "    </tr>\n",
       "    <tr>\n",
       "      <th>4</th>\n",
       "      <td>Nguyenbury</td>\n",
       "      <td>2016-07-09 04:42:44</td>\n",
       "      <td>6.28</td>\n",
       "      <td>1543057793673</td>\n",
       "    </tr>\n",
       "  </tbody>\n",
       "</table>\n",
       "</div>"
      ],
      "text/plain": [
       "          city                 date   fare        ride_id\n",
       "0     Sarabury  2016-01-16 13:49:27  38.35  5403689035038\n",
       "1    South Roy  2016-01-02 18:42:34  17.49  4036272335942\n",
       "2  Wiseborough  2016-01-21 17:35:29  44.18  3645042422587\n",
       "3  Spencertown  2016-07-31 14:53:22   6.87  2242596575892\n",
       "4   Nguyenbury  2016-07-09 04:42:44   6.28  1543057793673"
      ]
     },
     "execution_count": 127,
     "metadata": {},
     "output_type": "execute_result"
    }
   ],
   "source": [
    "# Read our Data file with the pandas library\n",
    "# Not every CSV requires an encoding, but be aware this can come up\n",
    "ride_df = pd.read_csv(ride, encoding = \"ISO-8859-1\")\n",
    "ride_df= ride_df.drop_duplicates()\n",
    "ride_df.head()\n"
   ]
  },
  {
   "cell_type": "code",
   "execution_count": 128,
   "metadata": {
    "collapsed": false
   },
   "outputs": [
    {
     "data": {
      "text/html": [
       "<div>\n",
       "<table border=\"1\" class=\"dataframe\">\n",
       "  <thead>\n",
       "    <tr style=\"text-align: right;\">\n",
       "      <th></th>\n",
       "      <th>city</th>\n",
       "      <th>driver_count</th>\n",
       "      <th>type</th>\n",
       "    </tr>\n",
       "  </thead>\n",
       "  <tbody>\n",
       "    <tr>\n",
       "      <th>0</th>\n",
       "      <td>Kelseyland</td>\n",
       "      <td>63</td>\n",
       "      <td>Urban</td>\n",
       "    </tr>\n",
       "    <tr>\n",
       "      <th>1</th>\n",
       "      <td>Nguyenbury</td>\n",
       "      <td>8</td>\n",
       "      <td>Urban</td>\n",
       "    </tr>\n",
       "    <tr>\n",
       "      <th>2</th>\n",
       "      <td>East Douglas</td>\n",
       "      <td>12</td>\n",
       "      <td>Urban</td>\n",
       "    </tr>\n",
       "    <tr>\n",
       "      <th>3</th>\n",
       "      <td>West Dawnfurt</td>\n",
       "      <td>34</td>\n",
       "      <td>Urban</td>\n",
       "    </tr>\n",
       "    <tr>\n",
       "      <th>4</th>\n",
       "      <td>Rodriguezburgh</td>\n",
       "      <td>52</td>\n",
       "      <td>Urban</td>\n",
       "    </tr>\n",
       "  </tbody>\n",
       "</table>\n",
       "</div>"
      ],
      "text/plain": [
       "             city  driver_count   type\n",
       "0      Kelseyland            63  Urban\n",
       "1      Nguyenbury             8  Urban\n",
       "2    East Douglas            12  Urban\n",
       "3   West Dawnfurt            34  Urban\n",
       "4  Rodriguezburgh            52  Urban"
      ]
     },
     "execution_count": 128,
     "metadata": {},
     "output_type": "execute_result"
    }
   ],
   "source": [
    "# read the second csv file\n",
    "\n",
    "city_df = pd.read_csv(city, encoding = \"ISO-8859-1\")\n",
    "city_df = city_df.drop_duplicates()\n",
    "city_df.head()"
   ]
  },
  {
   "cell_type": "markdown",
   "metadata": {
    "collapsed": false
   },
   "source": [
    "#Read the seond csv file\n",
    "city_df = pd.read_csv(city, encoding = \"ISO-8859-1\")\n",
    "city_df.head()\n",
    "\n"
   ]
  },
  {
   "cell_type": "code",
   "execution_count": 129,
   "metadata": {
    "collapsed": false
   },
   "outputs": [
    {
     "data": {
      "text/html": [
       "<div>\n",
       "<table border=\"1\" class=\"dataframe\">\n",
       "  <thead>\n",
       "    <tr style=\"text-align: right;\">\n",
       "      <th></th>\n",
       "      <th>city</th>\n",
       "      <th>driver_count</th>\n",
       "      <th>type</th>\n",
       "      <th>date</th>\n",
       "      <th>fare</th>\n",
       "      <th>ride_id</th>\n",
       "    </tr>\n",
       "  </thead>\n",
       "  <tbody>\n",
       "    <tr>\n",
       "      <th>0</th>\n",
       "      <td>Kelseyland</td>\n",
       "      <td>63</td>\n",
       "      <td>Urban</td>\n",
       "      <td>2016-08-19 04:27:52</td>\n",
       "      <td>5.51</td>\n",
       "      <td>6246006544795</td>\n",
       "    </tr>\n",
       "    <tr>\n",
       "      <th>1</th>\n",
       "      <td>Kelseyland</td>\n",
       "      <td>63</td>\n",
       "      <td>Urban</td>\n",
       "      <td>2016-04-17 06:59:50</td>\n",
       "      <td>5.54</td>\n",
       "      <td>7466473222333</td>\n",
       "    </tr>\n",
       "    <tr>\n",
       "      <th>2</th>\n",
       "      <td>Kelseyland</td>\n",
       "      <td>63</td>\n",
       "      <td>Urban</td>\n",
       "      <td>2016-05-04 15:06:07</td>\n",
       "      <td>30.54</td>\n",
       "      <td>2140501382736</td>\n",
       "    </tr>\n",
       "    <tr>\n",
       "      <th>3</th>\n",
       "      <td>Kelseyland</td>\n",
       "      <td>63</td>\n",
       "      <td>Urban</td>\n",
       "      <td>2016-01-25 20:44:56</td>\n",
       "      <td>12.08</td>\n",
       "      <td>1896987891309</td>\n",
       "    </tr>\n",
       "    <tr>\n",
       "      <th>4</th>\n",
       "      <td>Kelseyland</td>\n",
       "      <td>63</td>\n",
       "      <td>Urban</td>\n",
       "      <td>2016-08-09 18:19:47</td>\n",
       "      <td>17.91</td>\n",
       "      <td>8784212854829</td>\n",
       "    </tr>\n",
       "  </tbody>\n",
       "</table>\n",
       "</div>"
      ],
      "text/plain": [
       "         city  driver_count   type                 date   fare        ride_id\n",
       "0  Kelseyland            63  Urban  2016-08-19 04:27:52   5.51  6246006544795\n",
       "1  Kelseyland            63  Urban  2016-04-17 06:59:50   5.54  7466473222333\n",
       "2  Kelseyland            63  Urban  2016-05-04 15:06:07  30.54  2140501382736\n",
       "3  Kelseyland            63  Urban  2016-01-25 20:44:56  12.08  1896987891309\n",
       "4  Kelseyland            63  Urban  2016-08-09 18:19:47  17.91  8784212854829"
      ]
     },
     "execution_count": 129,
     "metadata": {},
     "output_type": "execute_result"
    }
   ],
   "source": [
    "#join two data tables into one by city\n",
    "sum_df = pd.merge(city_df, ride_df, on='city')\n",
    "sum_df = sum_df.drop_duplicates()\n",
    "sum_df.head()\n"
   ]
  },
  {
   "cell_type": "code",
   "execution_count": 130,
   "metadata": {
    "collapsed": false
   },
   "outputs": [
    {
     "data": {
      "text/plain": [
       "city\n",
       "Alvarezhaven    23.928710\n",
       "Alyssaberg      20.609615\n",
       "Anitamouth      37.315556\n",
       "Antoniomouth    23.625000\n",
       "Aprilchester    21.981579\n",
       "Name: fare, dtype: float64"
      ]
     },
     "execution_count": 130,
     "metadata": {},
     "output_type": "execute_result"
    }
   ],
   "source": [
    "# * Average Fare ($) Per City \n",
    "avg_ride = sum_df.groupby('city')['fare'].mean()\n",
    "avg_ride.head()"
   ]
  },
  {
   "cell_type": "code",
   "execution_count": 131,
   "metadata": {
    "collapsed": false
   },
   "outputs": [
    {
     "data": {
      "text/html": [
       "<div>\n",
       "<table border=\"1\" class=\"dataframe\">\n",
       "  <thead>\n",
       "    <tr style=\"text-align: right;\">\n",
       "      <th></th>\n",
       "      <th>city</th>\n",
       "      <th>Avg_Fare</th>\n",
       "    </tr>\n",
       "  </thead>\n",
       "  <tbody>\n",
       "    <tr>\n",
       "      <th>0</th>\n",
       "      <td>Alvarezhaven</td>\n",
       "      <td>23.928710</td>\n",
       "    </tr>\n",
       "    <tr>\n",
       "      <th>1</th>\n",
       "      <td>Alyssaberg</td>\n",
       "      <td>20.609615</td>\n",
       "    </tr>\n",
       "    <tr>\n",
       "      <th>2</th>\n",
       "      <td>Anitamouth</td>\n",
       "      <td>37.315556</td>\n",
       "    </tr>\n",
       "    <tr>\n",
       "      <th>3</th>\n",
       "      <td>Antoniomouth</td>\n",
       "      <td>23.625000</td>\n",
       "    </tr>\n",
       "    <tr>\n",
       "      <th>4</th>\n",
       "      <td>Aprilchester</td>\n",
       "      <td>21.981579</td>\n",
       "    </tr>\n",
       "  </tbody>\n",
       "</table>\n",
       "</div>"
      ],
      "text/plain": [
       "           city   Avg_Fare\n",
       "0  Alvarezhaven  23.928710\n",
       "1    Alyssaberg  20.609615\n",
       "2    Anitamouth  37.315556\n",
       "3  Antoniomouth  23.625000\n",
       "4  Aprilchester  21.981579"
      ]
     },
     "execution_count": 131,
     "metadata": {},
     "output_type": "execute_result"
    }
   ],
   "source": [
    "avg_ride_df= pd.DataFrame(avg_ride)\n",
    "avg_ride_df.rename(columns={'city': 'city', 'fare': 'Avg_Fare'}, inplace=True)\n",
    "avg_ride_df.reset_index(level=0, inplace=True)\n",
    "avg_ride_df.head()"
   ]
  },
  {
   "cell_type": "code",
   "execution_count": 132,
   "metadata": {
    "collapsed": false
   },
   "outputs": [
    {
     "data": {
      "text/plain": [
       "city\n",
       "Alvarezhaven    31\n",
       "Alyssaberg      26\n",
       "Anitamouth       9\n",
       "Antoniomouth    22\n",
       "Aprilchester    19\n",
       "Name: ride_id, dtype: int64"
      ]
     },
     "execution_count": 132,
     "metadata": {},
     "output_type": "execute_result"
    }
   ],
   "source": [
    "#* Total Number of Rides Per City\n",
    "Total_rides = sum_df.groupby('city').ride_id.count()\n",
    "\n",
    "Total_rides.head()\n"
   ]
  },
  {
   "cell_type": "code",
   "execution_count": 133,
   "metadata": {
    "collapsed": false
   },
   "outputs": [
    {
     "data": {
      "text/html": [
       "<div>\n",
       "<table border=\"1\" class=\"dataframe\">\n",
       "  <thead>\n",
       "    <tr style=\"text-align: right;\">\n",
       "      <th></th>\n",
       "      <th>city</th>\n",
       "      <th>Total_ride</th>\n",
       "    </tr>\n",
       "  </thead>\n",
       "  <tbody>\n",
       "    <tr>\n",
       "      <th>0</th>\n",
       "      <td>Alvarezhaven</td>\n",
       "      <td>31</td>\n",
       "    </tr>\n",
       "    <tr>\n",
       "      <th>1</th>\n",
       "      <td>Alyssaberg</td>\n",
       "      <td>26</td>\n",
       "    </tr>\n",
       "    <tr>\n",
       "      <th>2</th>\n",
       "      <td>Anitamouth</td>\n",
       "      <td>9</td>\n",
       "    </tr>\n",
       "    <tr>\n",
       "      <th>3</th>\n",
       "      <td>Antoniomouth</td>\n",
       "      <td>22</td>\n",
       "    </tr>\n",
       "    <tr>\n",
       "      <th>4</th>\n",
       "      <td>Aprilchester</td>\n",
       "      <td>19</td>\n",
       "    </tr>\n",
       "  </tbody>\n",
       "</table>\n",
       "</div>"
      ],
      "text/plain": [
       "           city  Total_ride\n",
       "0  Alvarezhaven          31\n",
       "1    Alyssaberg          26\n",
       "2    Anitamouth           9\n",
       "3  Antoniomouth          22\n",
       "4  Aprilchester          19"
      ]
     },
     "execution_count": 133,
     "metadata": {},
     "output_type": "execute_result"
    }
   ],
   "source": [
    "Total_rides_df= pd.DataFrame(Total_rides)\n",
    "Total_rides_df.rename(columns={'city': 'city', 'ride_id': 'Total_ride'}, inplace=True)\n",
    "Total_rides_df.reset_index(level=0, inplace=True)\n",
    "Total_rides_df.head()"
   ]
  },
  {
   "cell_type": "code",
   "execution_count": 134,
   "metadata": {
    "collapsed": false
   },
   "outputs": [
    {
     "data": {
      "text/plain": [
       "city\n",
       "Alvarezhaven    21\n",
       "Alyssaberg      67\n",
       "Anitamouth      16\n",
       "Antoniomouth    21\n",
       "Aprilchester    49\n",
       "Name: driver_count, dtype: int64"
      ]
     },
     "execution_count": 134,
     "metadata": {},
     "output_type": "execute_result"
    }
   ],
   "source": [
    "#* Total Number of Drivers Per City\n",
    "num_driver = city_df.groupby('city').driver_count.sum()\n",
    "num_driver.head()\n"
   ]
  },
  {
   "cell_type": "code",
   "execution_count": 135,
   "metadata": {
    "collapsed": false
   },
   "outputs": [
    {
     "data": {
      "text/html": [
       "<div>\n",
       "<table border=\"1\" class=\"dataframe\">\n",
       "  <thead>\n",
       "    <tr style=\"text-align: right;\">\n",
       "      <th></th>\n",
       "      <th>city</th>\n",
       "      <th>Total_driver</th>\n",
       "    </tr>\n",
       "  </thead>\n",
       "  <tbody>\n",
       "    <tr>\n",
       "      <th>0</th>\n",
       "      <td>Alvarezhaven</td>\n",
       "      <td>21</td>\n",
       "    </tr>\n",
       "    <tr>\n",
       "      <th>1</th>\n",
       "      <td>Alyssaberg</td>\n",
       "      <td>67</td>\n",
       "    </tr>\n",
       "    <tr>\n",
       "      <th>2</th>\n",
       "      <td>Anitamouth</td>\n",
       "      <td>16</td>\n",
       "    </tr>\n",
       "    <tr>\n",
       "      <th>3</th>\n",
       "      <td>Antoniomouth</td>\n",
       "      <td>21</td>\n",
       "    </tr>\n",
       "    <tr>\n",
       "      <th>4</th>\n",
       "      <td>Aprilchester</td>\n",
       "      <td>49</td>\n",
       "    </tr>\n",
       "  </tbody>\n",
       "</table>\n",
       "</div>"
      ],
      "text/plain": [
       "           city  Total_driver\n",
       "0  Alvarezhaven            21\n",
       "1    Alyssaberg            67\n",
       "2    Anitamouth            16\n",
       "3  Antoniomouth            21\n",
       "4  Aprilchester            49"
      ]
     },
     "execution_count": 135,
     "metadata": {},
     "output_type": "execute_result"
    }
   ],
   "source": [
    "num_driver_df= pd.DataFrame(num_driver)\n",
    "num_driver_df.rename(columns={'city': 'city', 'driver_count': 'Total_driver'}, inplace=True)\n",
    "num_driver_df.reset_index(level=0, inplace=True)\n",
    "num_driver_df.head()"
   ]
  },
  {
   "cell_type": "code",
   "execution_count": 136,
   "metadata": {
    "collapsed": false
   },
   "outputs": [
    {
     "data": {
      "text/html": [
       "<div>\n",
       "<table border=\"1\" class=\"dataframe\">\n",
       "  <thead>\n",
       "    <tr style=\"text-align: right;\">\n",
       "      <th></th>\n",
       "      <th>city</th>\n",
       "      <th>type</th>\n",
       "    </tr>\n",
       "  </thead>\n",
       "  <tbody>\n",
       "    <tr>\n",
       "      <th>0</th>\n",
       "      <td>Kelseyland</td>\n",
       "      <td>Urban</td>\n",
       "    </tr>\n",
       "    <tr>\n",
       "      <th>1</th>\n",
       "      <td>Nguyenbury</td>\n",
       "      <td>Urban</td>\n",
       "    </tr>\n",
       "    <tr>\n",
       "      <th>2</th>\n",
       "      <td>East Douglas</td>\n",
       "      <td>Urban</td>\n",
       "    </tr>\n",
       "    <tr>\n",
       "      <th>3</th>\n",
       "      <td>West Dawnfurt</td>\n",
       "      <td>Urban</td>\n",
       "    </tr>\n",
       "    <tr>\n",
       "      <th>4</th>\n",
       "      <td>Rodriguezburgh</td>\n",
       "      <td>Urban</td>\n",
       "    </tr>\n",
       "  </tbody>\n",
       "</table>\n",
       "</div>"
      ],
      "text/plain": [
       "             city   type\n",
       "0      Kelseyland  Urban\n",
       "1      Nguyenbury  Urban\n",
       "2    East Douglas  Urban\n",
       "3   West Dawnfurt  Urban\n",
       "4  Rodriguezburgh  Urban"
      ]
     },
     "execution_count": 136,
     "metadata": {},
     "output_type": "execute_result"
    }
   ],
   "source": [
    "#* City Type (Urban, Suburban, Rural)\n",
    "city_type = city_df[[\"city\",\"type\"]]\n",
    "city_type.head()\n",
    "\n",
    "                    "
   ]
  },
  {
   "cell_type": "code",
   "execution_count": 137,
   "metadata": {
    "collapsed": false
   },
   "outputs": [
    {
     "data": {
      "text/html": [
       "<div>\n",
       "<table border=\"1\" class=\"dataframe\">\n",
       "  <thead>\n",
       "    <tr style=\"text-align: right;\">\n",
       "      <th></th>\n",
       "      <th>city</th>\n",
       "      <th>Avg_Fare</th>\n",
       "      <th>Total_ride</th>\n",
       "      <th>Total_driver</th>\n",
       "      <th>type</th>\n",
       "    </tr>\n",
       "  </thead>\n",
       "  <tbody>\n",
       "    <tr>\n",
       "      <th>0</th>\n",
       "      <td>Alvarezhaven</td>\n",
       "      <td>23.928710</td>\n",
       "      <td>31</td>\n",
       "      <td>21</td>\n",
       "      <td>Urban</td>\n",
       "    </tr>\n",
       "    <tr>\n",
       "      <th>1</th>\n",
       "      <td>Alyssaberg</td>\n",
       "      <td>20.609615</td>\n",
       "      <td>26</td>\n",
       "      <td>67</td>\n",
       "      <td>Urban</td>\n",
       "    </tr>\n",
       "    <tr>\n",
       "      <th>2</th>\n",
       "      <td>Anitamouth</td>\n",
       "      <td>37.315556</td>\n",
       "      <td>9</td>\n",
       "      <td>16</td>\n",
       "      <td>Suburban</td>\n",
       "    </tr>\n",
       "    <tr>\n",
       "      <th>3</th>\n",
       "      <td>Antoniomouth</td>\n",
       "      <td>23.625000</td>\n",
       "      <td>22</td>\n",
       "      <td>21</td>\n",
       "      <td>Urban</td>\n",
       "    </tr>\n",
       "    <tr>\n",
       "      <th>4</th>\n",
       "      <td>Aprilchester</td>\n",
       "      <td>21.981579</td>\n",
       "      <td>19</td>\n",
       "      <td>49</td>\n",
       "      <td>Urban</td>\n",
       "    </tr>\n",
       "  </tbody>\n",
       "</table>\n",
       "</div>"
      ],
      "text/plain": [
       "           city   Avg_Fare  Total_ride  Total_driver      type\n",
       "0  Alvarezhaven  23.928710          31            21     Urban\n",
       "1    Alyssaberg  20.609615          26            67     Urban\n",
       "2    Anitamouth  37.315556           9            16  Suburban\n",
       "3  Antoniomouth  23.625000          22            21     Urban\n",
       "4  Aprilchester  21.981579          19            49     Urban"
      ]
     },
     "execution_count": 137,
     "metadata": {},
     "output_type": "execute_result"
    }
   ],
   "source": [
    "# fin_df = avg_ride_df.join(Total_rides_df, on = ['city'], how = 'inner')\n",
    "\n",
    "fin_df = pd.merge(avg_ride_df, Total_rides_df, on='city')\n",
    "fin_df = pd.merge(fin_df, num_driver_df, on='city')\n",
    "fin_df = pd.merge(fin_df, city_type, on='city')\n",
    "fin_df.head()\n"
   ]
  },
  {
   "cell_type": "code",
   "execution_count": 138,
   "metadata": {
    "collapsed": false
   },
   "outputs": [
    {
     "data": {
      "image/png": "[encoded data removed]",
      "text/plain": [
       "<matplotlib.figure.Figure at 0x10febbb38>"
      ]
     },
     "metadata": {},
     "output_type": "display_data"
    }
   ],
   "source": [
    "#plot the following variables:\n",
    "\n",
    "# x axis = number of ride per city\n",
    "# y axis = average fair per city\n",
    "# color = city type per city\n",
    "# s = diver count per city\n",
    "\n",
    "colors = [\"LightCoral\", \"LightSkyBlue\", \"Gold\"]\n",
    "sns.set_palette(colors,3,0.75)\n",
    "\n",
    "\n",
    "#plot data for urban city type\n",
    "urban = fin_df.loc[fin_df['type'] == \"Urban\"]\n",
    "urbanplt = plt.scatter(urban[\"Total_ride\"], urban[\"Avg_Fare\"], marker=\"o\", s=urban[\"Total_driver\"], label='Urban',edgecolor = \"b\", linewidths=0.75,alpha=0.75)\n",
    "\n",
    "# plot data for Suburban city type\n",
    "Suburban = fin_df.loc[fin_df['type'] == \"Suburban\"]\n",
    "suburbanplt= plt.scatter(Suburban[\"Total_ride\"], Suburban[\"Avg_Fare\"], marker=\"o\", s=Suburban[\"Total_driver\"],label='Suburban', edgecolor = \"b\",alpha=0.75)\n",
    "\n",
    "# plot data for Rural city type\n",
    "Rural = fin_df.loc[fin_df['type'] == \"Rural\"]\n",
    "ruralplt = plt.scatter(Rural[\"Total_ride\"], Rural[\"Avg_Fare\"], marker=\"o\", s=Rural[\"Total_driver\"],label='Rural', edgecolor = \"b\",alpha=0.75)\n",
    "\n",
    "#titles,lables, and legends\n",
    "plt.title(\"PyBer RideSharing Data (2016)\")\n",
    "plt.xlabel(\"Total Number of Rides (Per City)\")\n",
    "plt.ylabel(\"Average Fare ($)\")\n",
    "\n",
    "plt.legend(handles = [urbanplt, suburbanplt, ruralplt],title=\"City types\", loc = \"upper right\")\n",
    "\n",
    "# Show plot\n",
    "plt.show()\n"
   ]
  },
  {
   "cell_type": "code",
   "execution_count": 139,
   "metadata": {
    "collapsed": false
   },
   "outputs": [
    {
     "data": {
      "image/png": "[encoded data removed]",
      "text/plain": [
       "<matplotlib.figure.Figure at 0x10ff07ef0>"
      ]
     },
     "metadata": {},
     "output_type": "display_data"
    }
   ],
   "source": [
    "# In addition, you will be expected to produce the following three pie charts:\n",
    "# * % of Total Fares by City Type\n",
    "\n",
    "#Create a new column to define the fare per city\n",
    "fin_df[\"fare_per_city\"]=\"\"\n",
    "for index, row in fin_df.iterrows():\n",
    "     fin_df.set_value(index, \"fare_per_city\", row[\"Avg_Fare\"]* row[\"Total_ride\"])\n",
    "        \n",
    "#define the total fare for each city type\n",
    "\n",
    "urban_fare = fin_df.loc[fin_df['type'] == \"Urban\"]\n",
    "urban_fare_total = round(urban_fare[\"fare_per_city\"].sum(),2)\n",
    "\n",
    "Suburban_fare = fin_df.loc[fin_df['type'] == \"Suburban\"]\n",
    "Suburban_fare_total = round(Suburban_fare[\"fare_per_city\"].sum(),2)\n",
    "\n",
    "Rural_fare = fin_df.loc[fin_df['type'] == \"Rural\"]\n",
    "Rural_fare_total = round(Rural_fare[\"fare_per_city\"].sum(),2)\n",
    "\n",
    "#create a new dataframe to store the total fare per type\n",
    "new_data = {\"type\":[\"Urban\",\"Suburban\", \"Rural\"], \"total_fare\":[urban_fare_total,Suburban_fare_total,Rural_fare_total]}\n",
    "avg_fare=pd.DataFrame(new_data)\n",
    "\n",
    "# plot pie chart\n",
    "plt.pie(avg_fare[\"total_fare\"], labels=avg_fare[\"type\"], shadow=True,explode=(0.15, 0, 0),startangle=200, autopct='%1.1f%%')\n",
    "plt.title(\"% of Total Fares by City Type\")\n",
    "plt.tight_layout()\n",
    "plt.show()\n"
   ]
  },
  {
   "cell_type": "code",
   "execution_count": 140,
   "metadata": {
    "collapsed": false
   },
   "outputs": [
    {
     "data": {
      "image/png": "[encoded data removed]",
      "text/plain": [
       "<matplotlib.figure.Figure at 0x10ff17f98>"
      ]
     },
     "metadata": {},
     "output_type": "display_data"
    }
   ],
   "source": [
    "# * % of Total Rides by City Type\n",
    "        \n",
    "#define the total ride for each city type\n",
    "\n",
    "urban_total_ride = round(urban_fare[\"Total_ride\"].sum(),2)\n",
    "Suburban_total_ride = round(Suburban_fare[\"Total_ride\"].sum(),2)\n",
    "Rural_total_ride = round(Rural_fare[\"Total_ride\"].sum(),2)\n",
    "\n",
    "#create a new dataframe to store the total fare per city type\n",
    "new_data = {\"type\":[\"Urban\",\"Suburban\", \"Rural\"], \"total_rides\":[urban_total_ride,Suburban_total_ride,Rural_total_ride]}\n",
    "ride=pd.DataFrame(new_data)\n",
    "\n",
    "# plot pie chart\n",
    "plt.pie(ride[\"total_rides\"], labels=ride[\"type\"], shadow=True,explode=(0.15, 0, 0),startangle=200, autopct='%1.1f%%')\n",
    "plt.title(\"% of Total Rides by City Type\")\n",
    "plt.tight_layout()\n",
    "plt.show()\n"
   ]
  },
  {
   "cell_type": "code",
   "execution_count": 141,
   "metadata": {
    "collapsed": false
   },
   "outputs": [
    {
     "data": {
      "image/png": "[encoded data removed]",
      "text/plain": [
       "<matplotlib.figure.Figure at 0x10fdd80f0>"
      ]
     },
     "metadata": {},
     "output_type": "display_data"
    }
   ],
   "source": [
    "# * % of Total Drivers by City Type\n",
    "\n",
    "#define the total driver for each city type\n",
    "\n",
    "urban_driver = urban_fare[\"Total_driver\"].sum()\n",
    "Suburban_driver = Suburban_fare[\"Total_driver\"].sum()\n",
    "Rural_driver = Rural_fare[\"Total_driver\"].sum()\n",
    "\n",
    "#create a new dataframe to store the total fare per city type\n",
    "new_data = {\"type\":[\"Urban\",\"Suburban\", \"Rural\"], \"total_drivers\":[urban_driver,Suburban_driver,Rural_driver]}\n",
    "driver=pd.DataFrame(new_data)\n",
    "\n",
    "# plot pie chart\n",
    "plt.pie(driver[\"total_drivers\"], labels=driver[\"type\"], shadow=True,explode=(0.15, 0, 0),startangle=200, autopct='%1.1f%%')\n",
    "plt.title(\"% of Total Drivers by City Type\")\n",
    "plt.tight_layout()\n",
    "plt.show()\n",
    "\n"
   ]
  },
  {
   "cell_type": "code",
   "execution_count": 142,
   "metadata": {
    "collapsed": false
   },
   "outputs": [
    {
     "data": {
      "image/png": "[encoded data removed]",
      "text/plain": [
       "<matplotlib.figure.Figure at 0x10c9c5908>"
      ]
     },
     "metadata": {},
     "output_type": "display_data"
    }
   ],
   "source": [
    "# Extra plot to validate the assumptions in the observation\n",
    "\n",
    "\n",
    "#define the avg fare for each city type\n",
    "\n",
    "urban_avg_fare = round(urban_fare[\"Avg_Fare\"].mean(),2)\n",
    "Suburban_avg_fare = round(Suburban_fare[\"Avg_Fare\"].mean(),2)\n",
    "Rural_avg_fare = round(Rural_fare[\"Avg_Fare\"].mean(),2)\n",
    "\n",
    "#create a new dataframe to store the total fare per type\n",
    "# new_data2 = {\"type\":[\"Urban\",\"Suburban\", \"Rural\"], \"avg_fare\":[urban_avg_fare,Suburban_avg_fare,Rural_avg_fare]}\n",
    "# avg_fare=pd.DataFrame(new_data2)\n",
    "# avg_fare.head()\n",
    "\n",
    "# x axis = number of ride per city\n",
    "# y axis = average fair per city\n",
    "# color = city type per city\n",
    "# s = diver count per city\n",
    "\n",
    "# plot bar chart\n",
    "value={\"Urban\":urban_avg_fare,\"Suburban\":Suburban_avg_fare, \"Rural\":Rural_avg_fare}\n",
    "plt.bar(range(len(value)),value.values(),align = \"center\")\n",
    "labels = [\"Urban\", \"Suburban\", \"Rural\"]\n",
    "plt.xticks(range(len(value)), labels)\n",
    "plt.title(\"Mean avg fare by City Type\")\n",
    "plt.show()\n"
   ]
  },
  {
   "cell_type": "code",
   "execution_count": null,
   "metadata": {
    "collapsed": true
   },
   "outputs": [],
   "source": []
  }
 ],
 "metadata": {
  "kernelspec": {
   "display_name": "Python 3",
   "language": "python",
   "name": "python3"
  },
  "language_info": {
   "codemirror_mode": {
    "name": "ipython",
    "version": 3
   },
   "file_extension": ".py",
   "mimetype": "text/x-python",
   "name": "python",
   "nbconvert_exporter": "python",
   "pygments_lexer": "ipython3",
   "version": "3.6.0"
  }
 },
 "nbformat": 4,
 "nbformat_minor": 2
}
